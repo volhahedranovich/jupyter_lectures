{
 "cells": [
  {
   "cell_type": "markdown",
   "metadata": {},
   "source": [
    "<small><i>This notebook was created by [Alexander Fridman](http://www.rocketscience.ai) for the Lecture Course. Source and license info is on [GitHub](https://github.com/volhahedranovich/jupyter_lectures).</i></small>"
   ]
  },
  {
   "cell_type": "markdown",
   "metadata": {},
   "source": [
    "### In this example where used following libraries of latest versions:\n",
    "1. keras\n",
    "1. scikit-learn\n",
    "1. numpy\n",
    "1. pandas"
   ]
  },
  {
   "cell_type": "code",
   "execution_count": 19,
   "metadata": {
    "ExecuteTime": {
     "end_time": "2018-01-24T08:22:01.862682Z",
     "start_time": "2018-01-24T08:22:01.848516Z"
    }
   },
   "outputs": [],
   "source": [
    "import os\n",
    "import pickle\n",
    "import random\n",
    "from collections import Counter\n",
    "\n",
    "import matplotlib.pyplot as plt\n",
    "import numpy as np\n",
    "import pandas as pd\n",
    "from IPython.display import SVG\n",
    "from keras.callbacks import ModelCheckpoint, EarlyStopping\n",
    "from keras.layers import Embedding, Input, LSTM, Dense, Conv1D, MaxPooling1D, Flatten\n",
    "from keras.models import Model, load_model\n",
    "from keras.preprocessing.sequence import pad_sequences\n",
    "from keras.preprocessing.text import Tokenizer\n",
    "from keras.utils import to_categorical\n",
    "from keras.utils.vis_utils import model_to_dot\n",
    "from sklearn.datasets import fetch_20newsgroups\n",
    "from sklearn.metrics import classification_report\n",
    "from sklearn.model_selection import train_test_split\n",
    "from sklearn.preprocessing import LabelEncoder, OneHotEncoder\n",
    "\n",
    "\n",
    "%matplotlib inline"
   ]
  },
  {
   "cell_type": "markdown",
   "metadata": {},
   "source": [
    "# Prepare a dataset"
   ]
  },
  {
   "cell_type": "code",
   "execution_count": 2,
   "metadata": {
    "ExecuteTime": {
     "end_time": "2018-01-24T07:56:18.492905Z",
     "start_time": "2018-01-24T07:56:18.488436Z"
    }
   },
   "outputs": [],
   "source": [
    "N_CLASSES = 5\n",
    "DATASET_PATH = 'data'"
   ]
  },
  {
   "cell_type": "code",
   "execution_count": 3,
   "metadata": {
    "ExecuteTime": {
     "end_time": "2018-01-24T07:56:20.557836Z",
     "start_time": "2018-01-24T07:56:19.225575Z"
    }
   },
   "outputs": [
    {
     "name": "stdout",
     "output_type": "stream",
     "text": [
      "#texts: 4369\n",
      "Selected classes:\n",
      "('soc.religion.christian', 997)\n",
      "('sci.space', 987)\n",
      "('comp.sys.ibm.pc.hardware', 982)\n",
      "('talk.politics.misc', 775)\n",
      "('talk.religion.misc', 628)\n"
     ]
    }
   ],
   "source": [
    "assert N_CLASSES < 20\n",
    "\n",
    "# load dataset\n",
    "data = fetch_20newsgroups(subset='all')\n",
    "\n",
    "# select N_CLASSES at random\n",
    "selected_target_names = set(random.sample(data['target_names'], N_CLASSES))\n",
    "\n",
    "# found positions of items of selected classes\n",
    "indexes = [i for i, y_i in enumerate(data['target']) \n",
    "           if data['target_names'][y_i] in selected_target_names]\n",
    "texts = [data['data'][i] for i in indexes]\n",
    "targets = [data['target_names'][data['target'][i]] for i in indexes]\n",
    "\n",
    "print('#texts:', len(texts))\n",
    "print('Selected classes:')\n",
    "print('\\n'.join(map(str, Counter(targets).most_common())))\n",
    "\n",
    "# save dataset\n",
    "!rm -rf {DATASET_PATH}\n",
    "!mkdir {DATASET_PATH}\n",
    "\n",
    "# create separate folder for each class\n",
    "for target_name in selected_target_names:\n",
    "    !mkdir {DATASET_PATH}/{target_name}\n",
    "    \n",
    "for i, (target, text) in enumerate(sorted(zip(targets, texts))):\n",
    "    path = os.path.join(DATASET_PATH, target, '{}.txt'.format(i))\n",
    "    \n",
    "    with open(path, 'w+') as f:\n",
    "        f.write(text)"
   ]
  },
  {
   "cell_type": "markdown",
   "metadata": {},
   "source": [
    "# Load, split, analyze dataset"
   ]
  },
  {
   "cell_type": "code",
   "execution_count": 27,
   "metadata": {
    "ExecuteTime": {
     "end_time": "2018-01-25T00:05:44.544380Z",
     "start_time": "2018-01-25T00:05:44.533284Z"
    }
   },
   "outputs": [],
   "source": [
    "def load_data(path, remove_label=False):\n",
    "    \"\"\"\n",
    "    data loading function\n",
    "    \n",
    "    assumes there is a folder full of *.txt files for each class\n",
    "    \"\"\"\n",
    "    texts, targets = [], []\n",
    "    \n",
    "    for target in os.listdir(path):\n",
    "        target_path = os.path.join(path, target)\n",
    "        \n",
    "        for text_file_name in os.listdir(target_path):\n",
    "            text_file_path = os.path.join(target_path, text_file_name)\n",
    "            \n",
    "            targets.append(target)\n",
    "            with open(text_file_path) as f:\n",
    "                text = f.read()\n",
    "                if remove_label:\n",
    "                    text = '.'.join(text.split('.')[1:])\n",
    "                texts.append(text)\n",
    "                \n",
    "    return texts, targets"
   ]
  },
  {
   "cell_type": "markdown",
   "metadata": {},
   "source": [
    "## call as load_data(DATASET_PATH, remove_label=True) if needed"
   ]
  },
  {
   "cell_type": "code",
   "execution_count": 5,
   "metadata": {
    "ExecuteTime": {
     "end_time": "2018-01-24T07:56:22.328286Z",
     "start_time": "2018-01-24T07:56:22.251571Z"
    }
   },
   "outputs": [
    {
     "name": "stdout",
     "output_type": "stream",
     "text": [
      "Dataset loaded:\n",
      "('soc.religion.christian', 997)\n",
      "('sci.space', 987)\n",
      "('comp.sys.ibm.pc.hardware', 982)\n",
      "('talk.politics.misc', 775)\n",
      "('talk.religion.misc', 628)\n"
     ]
    }
   ],
   "source": [
    "texts, targets = load_data(DATASET_PATH)\n",
    "N_CLASSES = len(np.unique(targets))\n",
    "\n",
    "print('Dataset loaded:')\n",
    "print('\\n'.join(map(str, Counter(targets).most_common())))"
   ]
  },
  {
   "cell_type": "markdown",
   "metadata": {},
   "source": [
    "### Split dataset into train, test, valid"
   ]
  },
  {
   "cell_type": "code",
   "execution_count": 6,
   "metadata": {
    "ExecuteTime": {
     "end_time": "2018-01-24T07:56:22.838373Z",
     "start_time": "2018-01-24T07:56:22.822397Z"
    }
   },
   "outputs": [],
   "source": [
    "train_texts, test_texts, train_targets, test_targets = train_test_split(texts,\n",
    "                                                                        targets,\n",
    "                                                                        test_size=0.2,\n",
    "                                                                        stratify=targets,\n",
    "                                                                        random_state=42)\n",
    "train_texts, valid_texts, train_targets, valid_targets = train_test_split(train_texts,\n",
    "                                                                          train_targets,\n",
    "                                                                          test_size=0.2,\n",
    "                                                                          stratify=train_targets,\n",
    "                                                                          random_state=42)"
   ]
  },
  {
   "cell_type": "markdown",
   "metadata": {},
   "source": [
    "### Encode targets\n",
    "\n",
    "    also convert targets to 1-hot format required by using categorical_crossentropy loss "
   ]
  },
  {
   "cell_type": "code",
   "execution_count": 7,
   "metadata": {
    "ExecuteTime": {
     "end_time": "2018-01-24T07:56:25.189478Z",
     "start_time": "2018-01-24T07:56:25.177511Z"
    }
   },
   "outputs": [],
   "source": [
    "label_encoder = LabelEncoder()\n",
    "\n",
    "y_train = label_encoder.fit_transform(train_targets)\n",
    "y_valid = label_encoder.transform(valid_targets)\n",
    "y_test = label_encoder.transform(test_targets)\n",
    "\n",
    "y_train_1_hot = to_categorical(y_train, N_CLASSES)\n",
    "y_valid_1_hot = to_categorical(y_valid, N_CLASSES)\n",
    "\n",
    "with open('label_encoder.p', 'wb') as f:\n",
    "    pickle.dump(label_encoder, f)"
   ]
  },
  {
   "cell_type": "markdown",
   "metadata": {},
   "source": [
    "### Tokenize and encode text"
   ]
  },
  {
   "cell_type": "code",
   "execution_count": 8,
   "metadata": {
    "ExecuteTime": {
     "end_time": "2018-01-24T07:56:26.077720Z",
     "start_time": "2018-01-24T07:56:25.553474Z"
    }
   },
   "outputs": [
    {
     "name": "stdout",
     "output_type": "stream",
     "text": [
      "Actual NUM_WORDS=20000\n"
     ]
    }
   ],
   "source": [
    "NUM_WORDS = 20000\n",
    "\n",
    "tokenizer = Tokenizer(NUM_WORDS)\n",
    "tokenizer.fit_on_texts(train_texts)\n",
    "NUM_WORDS = min(NUM_WORDS, len(tokenizer.word_index))\n",
    "print('Actual NUM_WORDS={}'.format(NUM_WORDS))\n",
    "\n",
    "with open('tokenizer.p', 'wb') as f:\n",
    "    pickle.dump(tokenizer, f)"
   ]
  },
  {
   "cell_type": "code",
   "execution_count": 9,
   "metadata": {
    "ExecuteTime": {
     "end_time": "2018-01-24T07:56:26.959093Z",
     "start_time": "2018-01-24T07:56:26.506226Z"
    }
   },
   "outputs": [],
   "source": [
    "train_texts_encoded = tokenizer.texts_to_sequences(train_texts)\n",
    "valid_texts_encoded = tokenizer.texts_to_sequences(valid_texts)\n",
    "test_texts_encoded = tokenizer.texts_to_sequences(test_texts)"
   ]
  },
  {
   "cell_type": "markdown",
   "metadata": {},
   "source": [
    "### Analise train text lengths and choose MAX_SEQUENCE_LENGTH"
   ]
  },
  {
   "cell_type": "code",
   "execution_count": 10,
   "metadata": {
    "ExecuteTime": {
     "end_time": "2018-01-24T07:56:28.138309Z",
     "start_time": "2018-01-24T07:56:28.124985Z"
    }
   },
   "outputs": [
    {
     "data": {
      "text/plain": [
       "count    2796.000000\n",
       "mean      331.563305\n",
       "std       518.084658\n",
       "min        19.000000\n",
       "25%       128.000000\n",
       "50%       204.000000\n",
       "75%       344.000000\n",
       "max      8396.000000\n",
       "dtype: float64"
      ]
     },
     "execution_count": 10,
     "metadata": {},
     "output_type": "execute_result"
    }
   ],
   "source": [
    "train_text_lengths = list(map(len, train_texts_encoded))\n",
    "pd.Series(train_text_lengths).describe()"
   ]
  },
  {
   "cell_type": "code",
   "execution_count": 13,
   "metadata": {
    "ExecuteTime": {
     "end_time": "2018-01-24T07:56:45.998556Z",
     "start_time": "2018-01-24T07:56:45.993460Z"
    }
   },
   "outputs": [],
   "source": [
    "MAX_SEQUENCE_LENGTH = 300"
   ]
  },
  {
   "cell_type": "code",
   "execution_count": 14,
   "metadata": {
    "ExecuteTime": {
     "end_time": "2018-01-24T07:56:46.290642Z",
     "start_time": "2018-01-24T07:56:46.232220Z"
    }
   },
   "outputs": [],
   "source": [
    "X_train = pad_sequences(train_texts_encoded, MAX_SEQUENCE_LENGTH)\n",
    "X_valid = pad_sequences(valid_texts_encoded, MAX_SEQUENCE_LENGTH)\n",
    "X_test = pad_sequences(test_texts_encoded, MAX_SEQUENCE_LENGTH)"
   ]
  },
  {
   "cell_type": "markdown",
   "metadata": {},
   "source": [
    "# Set up and train network\n",
    "\n",
    "   \n",
    "Feel free to modify network, for example:\n",
    "1. initialize an embedding layer with glove weights\n",
    "2. add dropout to dense layers or even recurrent connections\n",
    "3. try convolutions and recurrent blocks together (more information by [this](https://machinelearningmastery.com/sequence-classification-lstm-recurrent-neural-networks-python-keras/) link)\n",
    "    \n",
    "## NOTE:\n",
    "Size of the last dense layer is equal to the number of classes"
   ]
  },
  {
   "cell_type": "code",
   "execution_count": 16,
   "metadata": {
    "ExecuteTime": {
     "end_time": "2018-01-24T07:57:59.589119Z",
     "start_time": "2018-01-24T07:57:52.081168Z"
    }
   },
   "outputs": [
    {
     "name": "stdout",
     "output_type": "stream",
     "text": [
      "15689 words found in glove\n",
      "_________________________________________________________________\n",
      "Layer (type)                 Output Shape              Param #   \n",
      "=================================================================\n",
      "input_2 (InputLayer)         (None, 300)               0         \n",
      "_________________________________________________________________\n",
      "embedding_2 (Embedding)      (None, 300, 100)          2000100   \n",
      "_________________________________________________________________\n",
      "lstm_1 (LSTM)                (None, 128)               117248    \n",
      "_________________________________________________________________\n",
      "dense_3 (Dense)              (None, 5)                 645       \n",
      "=================================================================\n",
      "Total params: 2,117,993\n",
      "Trainable params: 117,893\n",
      "Non-trainable params: 2,000,100\n",
      "_________________________________________________________________\n",
      "None\n"
     ]
    },
    {
     "data": {
      "image/svg+xml": [
       "<svg height=\"304pt\" viewBox=\"0.00 0.00 334.00 304.00\" width=\"334pt\" xmlns=\"http://www.w3.org/2000/svg\" xmlns:xlink=\"http://www.w3.org/1999/xlink\">\n",
       "<g class=\"graph\" id=\"graph0\" transform=\"scale(1 1) rotate(0) translate(4 300)\">\n",
       "<title>G</title>\n",
       "<polygon fill=\"white\" points=\"-4,4 -4,-300 330,-300 330,4 -4,4\" stroke=\"none\"/>\n",
       "<!-- 140280952347728 -->\n",
       "<g class=\"node\" id=\"node1\"><title>140280952347728</title>\n",
       "<polygon fill=\"none\" points=\"31.5,-249.5 31.5,-295.5 294.5,-295.5 294.5,-249.5 31.5,-249.5\" stroke=\"black\"/>\n",
       "<text font-family=\"Times,serif\" font-size=\"14.00\" text-anchor=\"middle\" x=\"94\" y=\"-268.8\">input_2: InputLayer</text>\n",
       "<polyline fill=\"none\" points=\"156.5,-249.5 156.5,-295.5 \" stroke=\"black\"/>\n",
       "<text font-family=\"Times,serif\" font-size=\"14.00\" text-anchor=\"middle\" x=\"184\" y=\"-280.3\">input:</text>\n",
       "<polyline fill=\"none\" points=\"156.5,-272.5 211.5,-272.5 \" stroke=\"black\"/>\n",
       "<text font-family=\"Times,serif\" font-size=\"14.00\" text-anchor=\"middle\" x=\"184\" y=\"-257.3\">output:</text>\n",
       "<polyline fill=\"none\" points=\"211.5,-249.5 211.5,-295.5 \" stroke=\"black\"/>\n",
       "<text font-family=\"Times,serif\" font-size=\"14.00\" text-anchor=\"middle\" x=\"253\" y=\"-280.3\">(None, 300)</text>\n",
       "<polyline fill=\"none\" points=\"211.5,-272.5 294.5,-272.5 \" stroke=\"black\"/>\n",
       "<text font-family=\"Times,serif\" font-size=\"14.00\" text-anchor=\"middle\" x=\"253\" y=\"-257.3\">(None, 300)</text>\n",
       "</g>\n",
       "<!-- 140280952281856 -->\n",
       "<g class=\"node\" id=\"node2\"><title>140280952281856</title>\n",
       "<polygon fill=\"none\" points=\"0,-166.5 0,-212.5 326,-212.5 326,-166.5 0,-166.5\" stroke=\"black\"/>\n",
       "<text font-family=\"Times,serif\" font-size=\"14.00\" text-anchor=\"middle\" x=\"80.5\" y=\"-185.8\">embedding_2: Embedding</text>\n",
       "<polyline fill=\"none\" points=\"161,-166.5 161,-212.5 \" stroke=\"black\"/>\n",
       "<text font-family=\"Times,serif\" font-size=\"14.00\" text-anchor=\"middle\" x=\"188.5\" y=\"-197.3\">input:</text>\n",
       "<polyline fill=\"none\" points=\"161,-189.5 216,-189.5 \" stroke=\"black\"/>\n",
       "<text font-family=\"Times,serif\" font-size=\"14.00\" text-anchor=\"middle\" x=\"188.5\" y=\"-174.3\">output:</text>\n",
       "<polyline fill=\"none\" points=\"216,-166.5 216,-212.5 \" stroke=\"black\"/>\n",
       "<text font-family=\"Times,serif\" font-size=\"14.00\" text-anchor=\"middle\" x=\"271\" y=\"-197.3\">(None, 300)</text>\n",
       "<polyline fill=\"none\" points=\"216,-189.5 326,-189.5 \" stroke=\"black\"/>\n",
       "<text font-family=\"Times,serif\" font-size=\"14.00\" text-anchor=\"middle\" x=\"271\" y=\"-174.3\">(None, 300, 100)</text>\n",
       "</g>\n",
       "<!-- 140280952347728&#45;&gt;140280952281856 -->\n",
       "<g class=\"edge\" id=\"edge1\"><title>140280952347728-&gt;140280952281856</title>\n",
       "<path d=\"M163,-249.366C163,-241.152 163,-231.658 163,-222.725\" fill=\"none\" stroke=\"black\"/>\n",
       "<polygon fill=\"black\" points=\"166.5,-222.607 163,-212.607 159.5,-222.607 166.5,-222.607\" stroke=\"black\"/>\n",
       "</g>\n",
       "<!-- 140280975046192 -->\n",
       "<g class=\"node\" id=\"node3\"><title>140280975046192</title>\n",
       "<polygon fill=\"none\" points=\"31.5,-83.5 31.5,-129.5 294.5,-129.5 294.5,-83.5 31.5,-83.5\" stroke=\"black\"/>\n",
       "<text font-family=\"Times,serif\" font-size=\"14.00\" text-anchor=\"middle\" x=\"80.5\" y=\"-102.8\">lstm_1: LSTM</text>\n",
       "<polyline fill=\"none\" points=\"129.5,-83.5 129.5,-129.5 \" stroke=\"black\"/>\n",
       "<text font-family=\"Times,serif\" font-size=\"14.00\" text-anchor=\"middle\" x=\"157\" y=\"-114.3\">input:</text>\n",
       "<polyline fill=\"none\" points=\"129.5,-106.5 184.5,-106.5 \" stroke=\"black\"/>\n",
       "<text font-family=\"Times,serif\" font-size=\"14.00\" text-anchor=\"middle\" x=\"157\" y=\"-91.3\">output:</text>\n",
       "<polyline fill=\"none\" points=\"184.5,-83.5 184.5,-129.5 \" stroke=\"black\"/>\n",
       "<text font-family=\"Times,serif\" font-size=\"14.00\" text-anchor=\"middle\" x=\"239.5\" y=\"-114.3\">(None, 300, 100)</text>\n",
       "<polyline fill=\"none\" points=\"184.5,-106.5 294.5,-106.5 \" stroke=\"black\"/>\n",
       "<text font-family=\"Times,serif\" font-size=\"14.00\" text-anchor=\"middle\" x=\"239.5\" y=\"-91.3\">(None, 128)</text>\n",
       "</g>\n",
       "<!-- 140280952281856&#45;&gt;140280975046192 -->\n",
       "<g class=\"edge\" id=\"edge2\"><title>140280952281856-&gt;140280975046192</title>\n",
       "<path d=\"M163,-166.366C163,-158.152 163,-148.658 163,-139.725\" fill=\"none\" stroke=\"black\"/>\n",
       "<polygon fill=\"black\" points=\"166.5,-139.607 163,-129.607 159.5,-139.607 166.5,-139.607\" stroke=\"black\"/>\n",
       "</g>\n",
       "<!-- 140280952729784 -->\n",
       "<g class=\"node\" id=\"node4\"><title>140280952729784</title>\n",
       "<polygon fill=\"none\" points=\"43,-0.5 43,-46.5 283,-46.5 283,-0.5 43,-0.5\" stroke=\"black\"/>\n",
       "<text font-family=\"Times,serif\" font-size=\"14.00\" text-anchor=\"middle\" x=\"94\" y=\"-19.8\">dense_3: Dense</text>\n",
       "<polyline fill=\"none\" points=\"145,-0.5 145,-46.5 \" stroke=\"black\"/>\n",
       "<text font-family=\"Times,serif\" font-size=\"14.00\" text-anchor=\"middle\" x=\"172.5\" y=\"-31.3\">input:</text>\n",
       "<polyline fill=\"none\" points=\"145,-23.5 200,-23.5 \" stroke=\"black\"/>\n",
       "<text font-family=\"Times,serif\" font-size=\"14.00\" text-anchor=\"middle\" x=\"172.5\" y=\"-8.3\">output:</text>\n",
       "<polyline fill=\"none\" points=\"200,-0.5 200,-46.5 \" stroke=\"black\"/>\n",
       "<text font-family=\"Times,serif\" font-size=\"14.00\" text-anchor=\"middle\" x=\"241.5\" y=\"-31.3\">(None, 128)</text>\n",
       "<polyline fill=\"none\" points=\"200,-23.5 283,-23.5 \" stroke=\"black\"/>\n",
       "<text font-family=\"Times,serif\" font-size=\"14.00\" text-anchor=\"middle\" x=\"241.5\" y=\"-8.3\">(None, 5)</text>\n",
       "</g>\n",
       "<!-- 140280975046192&#45;&gt;140280952729784 -->\n",
       "<g class=\"edge\" id=\"edge3\"><title>140280975046192-&gt;140280952729784</title>\n",
       "<path d=\"M163,-83.3664C163,-75.1516 163,-65.6579 163,-56.7252\" fill=\"none\" stroke=\"black\"/>\n",
       "<polygon fill=\"black\" points=\"166.5,-56.6068 163,-46.6068 159.5,-56.6069 166.5,-56.6068\" stroke=\"black\"/>\n",
       "</g>\n",
       "</g>\n",
       "</svg>"
      ],
      "text/plain": [
       "<IPython.core.display.SVG object>"
      ]
     },
     "execution_count": 16,
     "metadata": {},
     "output_type": "execute_result"
    }
   ],
   "source": [
    "def load_glove_weights_matrix(word_index, embedding_dim=100, glove_dir='glove'):\n",
    "    weights_matrix = np.zeros((len(word_index) + 1, embedding_dim), dtype=np.float32)\n",
    "    glove_path = os.path.join(glove_dir, 'glove.twitter.27B.{}d.txt'.format(embedding_dim))\n",
    "    \n",
    "    n_words_found = 0\n",
    "    with open(glove_path) as f:\n",
    "        for line in f:\n",
    "            word, *weights = line.strip().split()\n",
    "            \n",
    "            if word in word_index:\n",
    "                weights_matrix[word_index[word]] = np.array(list(map(float, weights)))\n",
    "                n_words_found += 1\n",
    "                \n",
    "    print('{} words found in glove'.format(n_words_found))\n",
    "    return weights_matrix\n",
    "\n",
    "\n",
    "def extract_word_index_from_tokenizer(tokenizer):\n",
    "    return {w: i for w, i in tokenizer.word_index.items() if i <= tokenizer.num_words}\n",
    "\n",
    "    \n",
    "def build_cnn_model_with_glove_embeddings(embedding_weights):\n",
    "    embedding_dim = embedding_weights.shape[1]\n",
    "    \n",
    "    embedding_layer = Embedding(\n",
    "        NUM_WORDS + 1,\n",
    "        embedding_dim,\n",
    "        weights=[embedding_weights],\n",
    "        input_length=MAX_SEQUENCE_LENGTH, \n",
    "        trainable=False)\n",
    "\n",
    "    sequence_input = Input(shape=(MAX_SEQUENCE_LENGTH, ), dtype='int32')\n",
    "    embedded_sequences = embedding_layer(sequence_input)\n",
    "    x = Conv1D(128, 5, activation='relu')(embedded_sequences)\n",
    "    x = MaxPooling1D(5)(x)\n",
    "    x = Conv1D(128, 5, activation='relu')(x)\n",
    "    x = MaxPooling1D(5)(x)\n",
    "    x = Flatten()(x)\n",
    "    x = Dense(128, activation='relu')(x)\n",
    "    preds = Dense(N_CLASSES, activation='softmax')(x)\n",
    "\n",
    "    return Model(sequence_input, preds)\n",
    "\n",
    "\n",
    "def build_rnn_model(embedding_weights, rnn_size=128):\n",
    "    embedding_dim = embedding_weights.shape[1]\n",
    "    \n",
    "    embedding_layer = Embedding(\n",
    "        NUM_WORDS + 1,\n",
    "        embedding_dim,\n",
    "        weights=[embedding_weights],\n",
    "        input_length=MAX_SEQUENCE_LENGTH,\n",
    "        mask_zero=True, \n",
    "        trainable=False)\n",
    "\n",
    "    sequence_input = Input(shape=(MAX_SEQUENCE_LENGTH, ), dtype='int32')\n",
    "    embedded_sequences = embedding_layer(sequence_input)\n",
    "    x = LSTM(rnn_size)(embedded_sequences)\n",
    "    preds = Dense(N_CLASSES, activation='softmax')(x)\n",
    "\n",
    "    return Model(sequence_input, preds)\n",
    "    \n",
    "    \n",
    "word_index = extract_word_index_from_tokenizer(tokenizer)\n",
    "embedding_weights = load_glove_weights_matrix(word_index)\n",
    "model = build_rnn_model(embedding_weights)\n",
    "\n",
    "model.compile('adam', 'categorical_crossentropy', metrics=['categorical_accuracy'])\n",
    "print(model.summary())\n",
    "SVG(model_to_dot(model, show_shapes=True).create(prog='dot', format='svg'))"
   ]
  },
  {
   "cell_type": "markdown",
   "metadata": {},
   "source": [
    "# IMPORTANT NOTE\n",
    "    to save model we will use here ModelCheckpoint which saves our model after each epoch (by default)\n",
    "    also model can be saved directly by calling save method on a model instance\n",
    "    \n",
    "```python\n",
    "    model.save('model.hdf5')\n",
    "```"
   ]
  },
  {
   "cell_type": "code",
   "execution_count": 17,
   "metadata": {
    "ExecuteTime": {
     "end_time": "2018-01-24T08:03:41.816565Z",
     "start_time": "2018-01-24T07:58:16.997846Z"
    },
    "code_folding": []
   },
   "outputs": [
    {
     "name": "stdout",
     "output_type": "stream",
     "text": [
      "Train on 2796 samples, validate on 699 samples\n",
      "Epoch 1/10\n",
      "2796/2796 [==============================] - 32s 12ms/step - loss: 1.3304 - categorical_accuracy: 0.4338 - val_loss: 1.0864 - val_categorical_accuracy: 0.5536\n",
      "Epoch 2/10\n",
      "2796/2796 [==============================] - 32s 11ms/step - loss: 0.9491 - categorical_accuracy: 0.6191 - val_loss: 1.5590 - val_categorical_accuracy: 0.4979\n",
      "Epoch 3/10\n",
      "2796/2796 [==============================] - 32s 12ms/step - loss: 1.0773 - categorical_accuracy: 0.5937 - val_loss: 1.0251 - val_categorical_accuracy: 0.6080\n",
      "Epoch 4/10\n",
      "2796/2796 [==============================] - 32s 12ms/step - loss: 1.0410 - categorical_accuracy: 0.5869 - val_loss: 1.0689 - val_categorical_accuracy: 0.5651\n",
      "Epoch 5/10\n",
      "2796/2796 [==============================] - 32s 11ms/step - loss: 0.8725 - categorical_accuracy: 0.6627 - val_loss: 0.8103 - val_categorical_accuracy: 0.7010\n",
      "Epoch 6/10\n",
      "2796/2796 [==============================] - 33s 12ms/step - loss: 0.8591 - categorical_accuracy: 0.6581 - val_loss: 0.9457 - val_categorical_accuracy: 0.6023\n",
      "Epoch 7/10\n",
      "2796/2796 [==============================] - 32s 12ms/step - loss: 0.7665 - categorical_accuracy: 0.7049 - val_loss: 0.8226 - val_categorical_accuracy: 0.6724\n",
      "Epoch 8/10\n",
      "2796/2796 [==============================] - 33s 12ms/step - loss: 0.6488 - categorical_accuracy: 0.7479 - val_loss: 0.7688 - val_categorical_accuracy: 0.7253\n",
      "Epoch 9/10\n",
      "2796/2796 [==============================] - 32s 12ms/step - loss: 0.5417 - categorical_accuracy: 0.8019 - val_loss: 0.6322 - val_categorical_accuracy: 0.7697\n",
      "Epoch 10/10\n",
      "2796/2796 [==============================] - 33s 12ms/step - loss: 0.4949 - categorical_accuracy: 0.8147 - val_loss: 0.5979 - val_categorical_accuracy: 0.7854\n"
     ]
    }
   ],
   "source": [
    "# prepare directory for checkpoints\n",
    "!rm -rf checkpoints\n",
    "!mkdir checkpoints\n",
    "\n",
    "checkpointer = ModelCheckpoint('checkpoints/weights.{epoch:02d}-{val_loss:.2f}.hdf5')\n",
    "stopper = EarlyStopping()\n",
    "\n",
    "history = model.fit(X_train, y_train_1_hot,\n",
    "                    batch_size=32,\n",
    "                    validation_data=[X_valid, y_valid_1_hot],\n",
    "                    callbacks=[checkpointer, stopper],\n",
    "                    epochs=10)"
   ]
  },
  {
   "cell_type": "markdown",
   "metadata": {},
   "source": [
    "### Visualize learning curves and select the best checkpoint"
   ]
  },
  {
   "cell_type": "code",
   "execution_count": 18,
   "metadata": {
    "ExecuteTime": {
     "end_time": "2018-01-24T08:03:42.023737Z",
     "start_time": "2018-01-24T08:03:41.817690Z"
    }
   },
   "outputs": [
    {
     "data": {
      "text/plain": [
       "<matplotlib.axes._subplots.AxesSubplot at 0x7f9542acf1d0>"
      ]
     },
     "execution_count": 18,
     "metadata": {},
     "output_type": "execute_result"
    },
    {
     "data": {
      "image/png": "[encoded data removed]",
      "text/plain": [
       "<matplotlib.figure.Figure at 0x7f9543547da0>"
      ]
     },
     "metadata": {},
     "output_type": "display_data"
    },
    {
     "data": {
      "image/png": "[encoded data removed]",
      "text/plain": [
       "<matplotlib.figure.Figure at 0x7f9542a62be0>"
      ]
     },
     "metadata": {},
     "output_type": "display_data"
    }
   ],
   "source": [
    "history_df = pd.DataFrame(history.history)\n",
    "\n",
    "history_df[['loss', 'val_loss']].plot()\n",
    "history_df[['categorical_accuracy', 'val_categorical_accuracy']].plot()"
   ]
  },
  {
   "cell_type": "markdown",
   "metadata": {},
   "source": [
    "    from learning curves plotted above we can conclude that our model reached best performance after 2nd epoch and then overfitted."
   ]
  },
  {
   "cell_type": "markdown",
   "metadata": {
    "ExecuteTime": {
     "end_time": "2018-01-16T14:46:55.952317Z",
     "start_time": "2018-01-16T14:46:55.943686Z"
    }
   },
   "source": [
    "### Load 10th checkpoint and measure quality on test set"
   ]
  },
  {
   "cell_type": "code",
   "execution_count": 73,
   "metadata": {
    "ExecuteTime": {
     "end_time": "2018-01-17T06:37:48.909850Z",
     "start_time": "2018-01-17T06:37:47.808823Z"
    }
   },
   "outputs": [],
   "source": [
    "model = load_model('checkpoints/weights.02-0.44.hdf5')"
   ]
  },
  {
   "cell_type": "code",
   "execution_count": 74,
   "metadata": {
    "ExecuteTime": {
     "end_time": "2018-01-17T06:37:49.145730Z",
     "start_time": "2018-01-17T06:37:48.910664Z"
    }
   },
   "outputs": [
    {
     "name": "stdout",
     "output_type": "stream",
     "text": [
      "964/964 [==============================] - 0s 241us/step\n"
     ]
    }
   ],
   "source": [
    "y_test_pred_proba = model.predict(X_test, batch_size=256, verbose=1)\n",
    "y_test_pred = np.argmax(y_test_pred_proba, axis=1)"
   ]
  },
  {
   "cell_type": "code",
   "execution_count": 75,
   "metadata": {
    "ExecuteTime": {
     "end_time": "2018-01-17T06:37:51.217393Z",
     "start_time": "2018-01-17T06:37:51.210911Z"
    }
   },
   "outputs": [
    {
     "name": "stdout",
     "output_type": "stream",
     "text": [
      "                       precision    recall  f1-score   support\n",
      "\n",
      "            rec.autos       0.88      0.69      0.77       198\n",
      "   rec.sport.baseball       0.79      0.95      0.87       199\n",
      "      sci.electronics       0.83      0.80      0.81       197\n",
      "   talk.politics.guns       0.76      0.83      0.79       182\n",
      "talk.politics.mideast       0.90      0.87      0.88       188\n",
      "\n",
      "          avg / total       0.83      0.83      0.83       964\n",
      "\n"
     ]
    }
   ],
   "source": [
    "print(classification_report(y_test, y_test_pred, target_names=label_encoder.classes_))"
   ]
  },
  {
   "cell_type": "markdown",
   "metadata": {},
   "source": [
    "# Load model and run inference on \"new\" data"
   ]
  },
  {
   "cell_type": "code",
   "execution_count": 76,
   "metadata": {
    "ExecuteTime": {
     "end_time": "2018-01-17T06:38:15.366045Z",
     "start_time": "2018-01-17T06:38:13.843313Z"
    }
   },
   "outputs": [
    {
     "name": "stdout",
     "output_type": "stream",
     "text": [
      "990/990 [==============================] - 0s 212us/step\n"
     ]
    },
    {
     "name": "stderr",
     "output_type": "stream",
     "text": [
      "/usr/local/lib/python3.5/dist-packages/sklearn/preprocessing/label.py:151: DeprecationWarning: The truth value of an empty array is ambiguous. Returning False, but in future this will result in an error. Use `array.size > 0` to check that an array is not empty.\n",
      "  if diff:\n"
     ]
    }
   ],
   "source": [
    "# load our pipeline (only tokenzer in our case)\n",
    "with open('tokenizer.p', 'rb') as f:\n",
    "    tokenizer = pickle.load(f)\n",
    "    \n",
    "# load label encoder (required to restore targets from model predictions)\n",
    "with open('label_encoder.p', 'rb') as f:\n",
    "    label_encoder = pickle.load(f)\n",
    "    \n",
    "# load model\n",
    "model = model = load_model('checkpoints/weights.02-0.44.hdf5')\n",
    "    \n",
    "# let's imagine our \"new\" data is a set of *.txt files in NEW_DATA_PATH dir\n",
    "NEW_DATA_PATH = 'data/rec.autos'\n",
    "new_texts = [open(os.path.join(NEW_DATA_PATH, file_name)).read() \n",
    "             for file_name in os.listdir(NEW_DATA_PATH)]\n",
    "\n",
    "new_texts_encoded = tokenizer.texts_to_sequences(new_texts)\n",
    "X_new = pad_sequences(new_texts_encoded, MAX_SEQUENCE_LENGTH)\n",
    "\n",
    "# run prediction on our new data (we will get a vector of class probabilities for each text)\n",
    "y_new_pred_proba = model.predict(X_new, batch_size=256, verbose=1)\n",
    "# select most probable class for each text\n",
    "y_new_pred = np.argmax(y_new_pred_proba, axis=1)\n",
    "# restore target names\n",
    "y_new_targets = label_encoder.inverse_transform(y_new_pred)"
   ]
  },
  {
   "cell_type": "code",
   "execution_count": 77,
   "metadata": {
    "ExecuteTime": {
     "end_time": "2018-01-17T06:38:16.422468Z",
     "start_time": "2018-01-17T06:38:16.417413Z"
    }
   },
   "outputs": [
    {
     "data": {
      "text/plain": [
       "Counter({'rec.autos': 743,\n",
       "         'rec.sport.baseball': 78,\n",
       "         'sci.electronics': 109,\n",
       "         'talk.politics.guns': 56,\n",
       "         'talk.politics.mideast': 4})"
      ]
     },
     "execution_count": 77,
     "metadata": {},
     "output_type": "execute_result"
    }
   ],
   "source": [
    "Counter(y_new_targets)"
   ]
  },
  {
   "cell_type": "code",
   "execution_count": 24,
   "metadata": {
    "ExecuteTime": {
     "end_time": "2018-01-24T23:23:17.546765Z",
     "start_time": "2018-01-24T23:23:17.536420Z"
    }
   },
   "outputs": [],
   "source": [
    "def predict_on_text(model, label_encoder, tokenizer, text, n_top_labels):\n",
    "    text = [text]\n",
    "    text_encoded = tokenizer.texts_to_sequences(text)\n",
    "    X = pad_sequences(text_encoded, MAX_SEQUENCE_LENGTH)\n",
    "    y_pred_proba = model.predict(X)[0]\n",
    "    \n",
    "    top_n_label_idxs = y_pred_proba.argsort()[::-1][:n_top_labels]\n",
    "    top_n_probs = y_pred_proba[top_n_label_idxs]\n",
    "    top_n_labels = label_encoder.inverse_transform(top_n_label_idxs)\n",
    "    \n",
    "    return list(zip(top_n_labels, top_n_probs))"
   ]
  },
  {
   "cell_type": "code",
   "execution_count": 26,
   "metadata": {
    "ExecuteTime": {
     "end_time": "2018-01-24T23:34:49.366529Z",
     "start_time": "2018-01-24T23:34:49.233379Z"
    }
   },
   "outputs": [
    {
     "name": "stderr",
     "output_type": "stream",
     "text": [
      "/usr/local/lib/python3.5/dist-packages/sklearn/preprocessing/label.py:151: DeprecationWarning: The truth value of an empty array is ambiguous. Returning False, but in future this will result in an error. Use `array.size > 0` to check that an array is not empty.\n",
      "  if diff:\n"
     ]
    },
    {
     "data": {
      "text/plain": [
       "[('comp.sys.ibm.pc.hardware', 0.85800827),\n",
       " ('sci.space', 0.13086149),\n",
       " ('talk.politics.misc', 0.0055755093)]"
      ]
     },
     "execution_count": 26,
     "metadata": {},
     "output_type": "execute_result"
    }
   ],
   "source": [
    "text = \"hardware pc processor and a bit of deep space\"\n",
    "n_labels = 3\n",
    "\n",
    "predict_on_text(model, label_encoder, tokenizer, text, n_labels)"
   ]
  },
  {
   "cell_type": "code",
   "execution_count": null,
   "metadata": {},
   "outputs": [],
   "source": []
  }
 ],
 "metadata": {
  "kernelspec": {
   "display_name": "Python 3",
   "language": "python",
   "name": "python3"
  },
  "language_info": {
   "codemirror_mode": {
    "name": "ipython",
    "version": 3
   },
   "file_extension": ".py",
   "mimetype": "text/x-python",
   "name": "python",
   "nbconvert_exporter": "python",
   "pygments_lexer": "ipython3",
   "version": "3.4.5"
  }
 },
 "nbformat": 4,
 "nbformat_minor": 2
}
